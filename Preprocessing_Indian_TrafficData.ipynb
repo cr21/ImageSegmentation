{
  "nbformat": 4,
  "nbformat_minor": 0,
  "metadata": {
    "colab": {
      "name": "Preprocessing Indian TrafficData.ipynb",
      "provenance": [],
      "collapsed_sections": [],
      "authorship_tag": "ABX9TyNYsuEWJUhAIS5fPq82qbBx",
      "include_colab_link": true
    },
    "kernelspec": {
      "display_name": "Python 3",
      "name": "python3"
    },
    "language_info": {
      "name": "python"
    },
    "accelerator": "GPU"
  },
  "cells": [
    {
      "cell_type": "markdown",
      "metadata": {
        "id": "view-in-github",
        "colab_type": "text"
      },
      "source": [
        "<a href=\"https://colab.research.google.com/github/cr21/ImageSegmentation/blob/main/Preprocessing_Indian_TrafficData.ipynb\" target=\"_parent\"><img src=\"https://colab.research.google.com/assets/colab-badge.svg\" alt=\"Open In Colab\"/></a>"
      ]
    },
    {
      "cell_type": "code",
      "metadata": {
        "colab": {
          "base_uri": "https://localhost:8080/"
        },
        "id": "7-BM0BZ1INSa",
        "outputId": "c6cd89e3-7b67-41b7-99d5-116d6136b75d"
      },
      "source": [
        "from google.colab import drive\n",
        "drive.mount('/content/drive/')"
      ],
      "execution_count": 1,
      "outputs": [
        {
          "output_type": "stream",
          "text": [
            "Mounted at /content/drive/\n"
          ],
          "name": "stdout"
        }
      ]
    },
    {
      "cell_type": "code",
      "metadata": {
        "colab": {
          "base_uri": "https://localhost:8080/"
        },
        "id": "ew_FHCXoqoua",
        "outputId": "55bcaa1d-5b4b-412f-9a30-e0cf7674b0d5"
      },
      "source": [
        "cd drive/MyDrive/Dataset/segmentation/"
      ],
      "execution_count": null,
      "outputs": [
        {
          "output_type": "stream",
          "text": [
            "/content/drive/.shortcut-targets-by-id/1bynkOIXCurhJ9_Y5Q14KWX5yDyCRkKfN/segmentation\n"
          ],
          "name": "stdout"
        }
      ]
    },
    {
      "cell_type": "code",
      "metadata": {
        "id": "xJK__iKmrCEr"
      },
      "source": [
        "#  you can skip this if you already have data extracted in Dataset \n",
        "# !apt install unzip\n",
        "# !unzip  data.zip -d \"/content/drive/MyDrive/Dataset/TrafficData\"\n",
        "\n"
      ],
      "execution_count": null,
      "outputs": []
    },
    {
      "cell_type": "code",
      "metadata": {
        "id": "HvLKSzJFSmyX"
      },
      "source": [
        "os.chdir('/content/drive/MyDrive/Dataset/TrafficData/')"
      ],
      "execution_count": 8,
      "outputs": []
    },
    {
      "cell_type": "code",
      "metadata": {
        "id": "dCa6IUYMUXU1"
      },
      "source": [
        "import math\n",
        "from PIL import Image, ImageDraw\n",
        "from PIL import ImagePath\n",
        "import pandas as pd\n",
        "import os\n",
        "from os import path\n",
        "from tqdm import tqdm\n",
        "import json\n",
        "import cv2\n",
        "import numpy as np\n",
        "import matplotlib.pyplot as plt\n",
        "import urllib\n",
        "from os import listdir\n",
        "from os.path import isfile, join\n",
        "import pandas as pd\n",
        "from tqdm import  tqdm\n",
        "pd.options.display.max_colwidth =1000"
      ],
      "execution_count": 3,
      "outputs": []
    },
    {
      "cell_type": "markdown",
      "metadata": {
        "id": "jbcyv655UpfD"
      },
      "source": [
        "<pre>\n",
        "\n",
        "Inside the data we will be having two folders\n",
        "\n",
        "|--- data\n",
        "|-----| ---- images\n",
        "|-----| ------|----- Scene 1\n",
        "|-----| ------|--------| ----- Frame 1 (image 1)\n",
        "|-----| ------|--------| ----- Frame 2 (image 2)\n",
        "|-----| ------|--------| ----- ...\n",
        "|-----| ------|----- Scene 2\n",
        "|-----| ------|--------| ----- Frame 1 (image 1)\n",
        "|-----| ------|--------| ----- Frame 2 (image 2)\n",
        "|-----| ------|--------| ----- ...\n",
        "|-----| ------|----- .....\n",
        "|-----| ---- masks\n",
        "|-----| ------|----- Scene 1\n",
        "|-----| ------|--------| ----- json 1 (labeled objects in image 1)\n",
        "|-----| ------|--------| ----- json 2 (labeled objects in image 1)\n",
        "|-----| ------|--------| ----- ...\n",
        "|-----| ------|----- Scene 2\n",
        "|-----| ------|--------| ----- json 1 (labeled objects in image 1)\n",
        "|-----| ------|--------| ----- json 2 (labeled objects in image 1)\n",
        "|-----| ------|--------| ----- ...\n",
        "|-----| ------|----- .....\n",
        "</pre>"
      ]
    },
    {
      "cell_type": "markdown",
      "metadata": {
        "id": "vjbwI477U11G"
      },
      "source": [
        "# Task 1: Preprocessing"
      ]
    },
    {
      "cell_type": "markdown",
      "metadata": {
        "id": "fObEwpymU41f"
      },
      "source": [
        "## 1. Get all the file name and corresponding json files"
      ]
    },
    {
      "cell_type": "code",
      "metadata": {
        "id": "vMzZSVIhbAlr"
      },
      "source": [
        "def getPath(_dir):\n",
        "  \"\"\"\n",
        "    Function to get All File path from directory.\n",
        "    \n",
        "    parameters: _dir (str) : directory name \n",
        "\n",
        "    returns : list \n",
        "  \"\"\"\n",
        "  paths = []\n",
        "  subdirList = os.listdir(_dir)\n",
        "  for subdir in sorted(subdirList):\n",
        "    subdirPath = _dir + '/' + subdir\n",
        "    imageList = [f for f in  sorted(listdir(subdirPath)) if isfile(join(subdirPath, f))]\n",
        "    for image in imageList:\n",
        "      imagePath = subdirPath + '/'+image\n",
        "      paths.append(imagePath)\n",
        "  return paths"
      ],
      "execution_count": 4,
      "outputs": []
    },
    {
      "cell_type": "code",
      "metadata": {
        "id": "ikx-_lmdU-JD"
      },
      "source": [
        "def getFileNamesDataFrame(root_dir):\n",
        "    \"\"\"\n",
        "      Function to create data frame with column \"Image\",\"Json\"\n",
        "\n",
        "      parameters: root_dir(str) : directory to look into\n",
        "\n",
        "      returns Dataframe(pd.DataFrame) :  column \"Image\" having Image input data path, Column \"Json\" with path of JSON mask output detail.\n",
        "\n",
        "    \"\"\"\n",
        "    images = getPath(root_dir+'/images')\n",
        "    masks = getPath(root_dir+'/mask')\n",
        "    # zip to create list of tuple\n",
        "    dataset = list(zip(images, masks))\n",
        "    data_df = pd.DataFrame(dataset, columns=[\"image\",\"json\"])\n",
        "    return data_df"
      ],
      "execution_count": 5,
      "outputs": []
    },
    {
      "cell_type": "code",
      "metadata": {
        "colab": {
          "base_uri": "https://localhost:8080/",
          "height": 204
        },
        "id": "kV9ltGOyhnbk",
        "outputId": "1e954dbd-284b-4ef5-e316-253bc1802b44"
      },
      "source": [
        "root_dir = 'data'\n",
        "data_df = getFileNamesDataFrame(root_dir)\n",
        "data_df.head()"
      ],
      "execution_count": null,
      "outputs": [
        {
          "output_type": "execute_result",
          "data": {
            "text/html": [
              "<div>\n",
              "<style scoped>\n",
              "    .dataframe tbody tr th:only-of-type {\n",
              "        vertical-align: middle;\n",
              "    }\n",
              "\n",
              "    .dataframe tbody tr th {\n",
              "        vertical-align: top;\n",
              "    }\n",
              "\n",
              "    .dataframe thead th {\n",
              "        text-align: right;\n",
              "    }\n",
              "</style>\n",
              "<table border=\"1\" class=\"dataframe\">\n",
              "  <thead>\n",
              "    <tr style=\"text-align: right;\">\n",
              "      <th></th>\n",
              "      <th>image</th>\n",
              "      <th>json</th>\n",
              "    </tr>\n",
              "  </thead>\n",
              "  <tbody>\n",
              "    <tr>\n",
              "      <th>0</th>\n",
              "      <td>data/images/201/frame0029_leftImg8bit.jpg</td>\n",
              "      <td>data/mask/201/frame0029_gtFine_polygons.json</td>\n",
              "    </tr>\n",
              "    <tr>\n",
              "      <th>1</th>\n",
              "      <td>data/images/201/frame0299_leftImg8bit.jpg</td>\n",
              "      <td>data/mask/201/frame0299_gtFine_polygons.json</td>\n",
              "    </tr>\n",
              "    <tr>\n",
              "      <th>2</th>\n",
              "      <td>data/images/201/frame0779_leftImg8bit.jpg</td>\n",
              "      <td>data/mask/201/frame0779_gtFine_polygons.json</td>\n",
              "    </tr>\n",
              "    <tr>\n",
              "      <th>3</th>\n",
              "      <td>data/images/201/frame1019_leftImg8bit.jpg</td>\n",
              "      <td>data/mask/201/frame1019_gtFine_polygons.json</td>\n",
              "    </tr>\n",
              "    <tr>\n",
              "      <th>4</th>\n",
              "      <td>data/images/201/frame1469_leftImg8bit.jpg</td>\n",
              "      <td>data/mask/201/frame1469_gtFine_polygons.json</td>\n",
              "    </tr>\n",
              "  </tbody>\n",
              "</table>\n",
              "</div>"
            ],
            "text/plain": [
              "                                       image                                          json\n",
              "0  data/images/201/frame0029_leftImg8bit.jpg  data/mask/201/frame0029_gtFine_polygons.json\n",
              "1  data/images/201/frame0299_leftImg8bit.jpg  data/mask/201/frame0299_gtFine_polygons.json\n",
              "2  data/images/201/frame0779_leftImg8bit.jpg  data/mask/201/frame0779_gtFine_polygons.json\n",
              "3  data/images/201/frame1019_leftImg8bit.jpg  data/mask/201/frame1019_gtFine_polygons.json\n",
              "4  data/images/201/frame1469_leftImg8bit.jpg  data/mask/201/frame1469_gtFine_polygons.json"
            ]
          },
          "metadata": {
            "tags": []
          },
          "execution_count": 10
        }
      ]
    },
    {
      "cell_type": "code",
      "metadata": {
        "colab": {
          "base_uri": "https://localhost:8080/"
        },
        "id": "kdZ_6TGAXKID",
        "outputId": "b198b37b-c7de-4129-f072-86ca7680f408"
      },
      "source": [
        "# datafram shape\n",
        "data_df.shape"
      ],
      "execution_count": null,
      "outputs": [
        {
          "output_type": "execute_result",
          "data": {
            "text/plain": [
              "(4008, 2)"
            ]
          },
          "metadata": {
            "tags": []
          },
          "execution_count": 11
        }
      ]
    },
    {
      "cell_type": "code",
      "metadata": {
        "id": "FFK86xKzjoBF"
      },
      "source": [
        "# read data_df from csv if it is already processed\n",
        "data_df = pd.read_csv(\"data_df.csv\")\n",
        "data_df.head()"
      ],
      "execution_count": null,
      "outputs": []
    },
    {
      "cell_type": "markdown",
      "metadata": {
        "id": "JkmzjyA3sXPe"
      },
      "source": [
        "## 2. Structure of sample Json file\n",
        "<a href=\"https://imgur.com/IIMgxyo\"><img src=\"https://i.imgur.com/IIMgxyo.png\" title=\"source: imgur.com\" /></a>"
      ]
    },
    {
      "cell_type": "markdown",
      "metadata": {
        "id": "eDgEOLBuycHp"
      },
      "source": [
        "#### Let's see how many unique objects are there in the json file. "
      ]
    },
    {
      "cell_type": "code",
      "metadata": {
        "id": "ysGAWl5Pye4O"
      },
      "source": [
        "def return_unique_labels(data_df):\n",
        "    \"\"\"\n",
        "      Function to get all unique labels in entire dataset\n",
        "\n",
        "      parameters : data_df(pd.DataFrame) : Dataframe having column \"Image\" and \"Json\"\n",
        "\n",
        "      returns : unique_labels(set) : set of all unique labels in Image data\n",
        "\n",
        "    \"\"\"\n",
        "    \n",
        "    \n",
        "    unique_labels = set()\n",
        "    idx = 1\n",
        "    for maskFile in tqdm(data_df[\"json\"]):\n",
        "      print(f\"file {idx} processed\")\n",
        "      idx+=1\n",
        "      jsonData = None\n",
        "      # if open any json file using any editor you will get better sense of it\n",
        "      with open(maskFile) as f:\n",
        "        jsonData = json.load(f)\n",
        "\n",
        "        if \"objects\" in jsonData:\n",
        "          objectList = jsonData[\"objects\"]\n",
        "          # iterate over every object\n",
        "          for _object in objectList:\n",
        "            if \"label\" in _object:\n",
        "              unique_labels.add(_object[\"label\"])\n",
        "\n",
        "    return unique_labels"
      ],
      "execution_count": 77,
      "outputs": []
    },
    {
      "cell_type": "code",
      "metadata": {
        "id": "L03aq98UzwX2"
      },
      "source": [
        "unique_labels = return_unique_labels(data_df)"
      ],
      "execution_count": null,
      "outputs": []
    },
    {
      "cell_type": "code",
      "metadata": {
        "id": "0A3KzfIhIBoy"
      },
      "source": [
        "# data_df.to_csv('data_df.csv', index=False)\n"
      ],
      "execution_count": null,
      "outputs": []
    },
    {
      "cell_type": "code",
      "metadata": {
        "id": "61vvOCGZiopE"
      },
      "source": [
        ""
      ],
      "execution_count": null,
      "outputs": []
    },
    {
      "cell_type": "markdown",
      "metadata": {
        "id": "7Mq_D9Ly6BO5"
      },
      "source": [
        "<a href=\"https://imgur.com/ghBvKA7\"><img src=\"https://i.imgur.com/ghBvKA7.png\" title=\"source: imgur.com\" /></a>"
      ]
    },
    {
      "cell_type": "code",
      "metadata": {
        "id": "gkYAPkGe6DmO"
      },
      "source": [
        "#  create and updated ( grouped ) labels in 21 class and values were multiplied by 10 so that we can have different colors when \n",
        "# we plot the object\n",
        "label_clr = {'road':10, 'parking':20, 'drivable fallback':20,'sidewalk':30,'non-drivable fallback':40,'rail track':40,\\\n",
        "                        'person':50, 'animal':50, 'rider':60, 'motorcycle':70, 'bicycle':70, 'autorickshaw':80,\\\n",
        "                        'car':80, 'truck':90, 'bus':90, 'vehicle fallback':90, 'trailer':90, 'caravan':90,\\\n",
        "                        'curb':100, 'wall':100, 'fence':110,'guard rail':110, 'billboard':120,'traffic sign':120,\\\n",
        "                        'traffic light':120, 'pole':130, 'polegroup':130, 'obs-str-bar-fallback':130,'building':140,\\\n",
        "                        'bridge':140,'tunnel':140, 'vegetation':150, 'sky':160, 'fallback background':160,'unlabeled':0,\\\n",
        "                        'out of roi':0, 'ego vehicle':170, 'ground':180,'rectification border':190,\\\n",
        "                   'train':200}"
      ],
      "execution_count": 24,
      "outputs": []
    },
    {
      "cell_type": "markdown",
      "metadata": {
        "id": "wY5REfKh62Ov"
      },
      "source": [
        "* here we have given a number for each of object types, if you see we are having 21 different set of objects\n",
        "* Note that we have multiplies each object's number with 10, that is just to make different objects look differently in the segmentation map"
      ]
    },
    {
      "cell_type": "markdown",
      "metadata": {
        "id": "2hL2XmgT7aHk"
      },
      "source": [
        "## 3. Extracting the polygons from the json files"
      ]
    },
    {
      "cell_type": "code",
      "metadata": {
        "id": "1BG9uQgq7axt"
      },
      "source": [
        "def getPolygonDetails(file):\n",
        "\n",
        "    \"\"\"\n",
        "      Function will take a file name as argument , it will process all the objects in that file \n",
        "      to get width, height, object coordinated and labels from file.\n",
        "    \n",
        "\n",
        "      parameters : file(str) file name\n",
        "\n",
        "      returns : tuple (width, height, labels, vertexlist) \n",
        "                [\n",
        "                  width : widht of the image\n",
        "                  height : height of the image\n",
        "                  label : a list of labels for all the objects label[i] will have the corresponding vertices in vertexlist[i]\n",
        "                  vertexlist :  it should be list of list of vertices in tuple formate \n",
        "                  ex: [[(x11,y11), (x12,y12), (x13,y13) .. (x1n,y1n)]\n",
        "                        [(x21,y21), (x22,y12), (x23,y23) .. (x2n,y2n)]\n",
        "                        .....\n",
        "                        [(xm1,ym1), (xm2,ym2), (xm3,ym3) .. (xmn,ymn)]]\n",
        "                    len(vertexlist) == number of objects in the image\n",
        "\n",
        "                    label[i] and vertextlist[i] are corresponds to the same object, one represents the type of the object\n",
        "                    # the other represents the location\n",
        "                ]\n",
        "    \"\"\"\n",
        "   \n",
        "    w = None\n",
        "    h = None\n",
        "    label = []\n",
        "    vertexlist = []\n",
        "    with open(file) as f:\n",
        "      jsonData = json.load(f)\n",
        "      # print(jsonData)\n",
        "      if \"imgHeight\" in jsonData:\n",
        "        h = jsonData[\"imgHeight\"]\n",
        "\n",
        "      if \"imgWidth\" in jsonData:\n",
        "        w = jsonData[\"imgWidth\"]\n",
        "\n",
        "      \n",
        "      if \"objects\" in jsonData:\n",
        "        objects = jsonData[\"objects\"]\n",
        "        for _object in  objects:\n",
        "          if 'label' in _object:\n",
        "            label.append(_object['label'])\n",
        "          if \"polygon\" in _object:\n",
        "            polygons = _object[\"polygon\"]\n",
        "            coordinates = []\n",
        "            for _polygon in polygons:\n",
        "              coordinates.append((_polygon [0], _polygon[1]))\n",
        "            vertexlist.append(coordinates)\n",
        "    \n",
        "    return w, h, label, vertexlist"
      ],
      "execution_count": 32,
      "outputs": []
    },
    {
      "cell_type": "code",
      "metadata": {
        "id": "iXN4RCPH70hA"
      },
      "source": [
        "w, h, labels, vertexlist = getPolygonDetails('data/mask/201/frame0029_gtFine_polygons.json')\n",
        "\n"
      ],
      "execution_count": null,
      "outputs": []
    },
    {
      "cell_type": "markdown",
      "metadata": {
        "id": "uudVQiYvDYrH"
      },
      "source": [
        "## 4. Creating Image segmentations by drawing set of polygons"
      ]
    },
    {
      "cell_type": "code",
      "metadata": {
        "id": "PeGSIIXmDZWt"
      },
      "source": [
        "def compute_masks(data_df):\n",
        "\n",
        "    \"\"\"\n",
        "      Function will create mask image for every input image in dataframe and output image path will be stored in new column in dataframe\n",
        "      This function will iterate over every image in image column,\n",
        "      then we will get labels and polygon information for every input image\n",
        "      then we will fill the image with color according to labels and polygon location \n",
        "      finally updated image will be stored in output directory\n",
        "\n",
        "\n",
        "      parameters : data_df(pd.DataFrame) -> [\"Image\", \"Json\"]\n",
        "\n",
        "      return : data_df(pd.DataFrame) \n",
        "                  [\n",
        "                    \"Column 1\" : \"Image\"\n",
        "                    \"Column 2\" : \"Json\"\n",
        "                    \"Column 3\" : \"mask\"\n",
        "                  ]\n",
        "\n",
        "\n",
        "    \"\"\"\n",
        "    # after you have computed the vertexlist plot that polygone in image like this\n",
        "    \n",
        "    # img = Image.new(\"RGB\", (w, h))\n",
        "    # img1 = ImageDraw.Draw(img)\n",
        "    # img1.polygon(vertexlist[i], fill = label_clr[label[i]])\n",
        "    \n",
        "    # after drawing all the polygons that we collected from json file, \n",
        "    # you need to store that image in the folder like this \"data/output/scene/framenumber_gtFine_polygons.png\"\n",
        "    \n",
        "    # after saving the image into disk, store the path in a list\n",
        "    # after storing all the paths, add a column to the data_df['mask'] ex: data_df['mask']= mask_paths\n",
        "    maskPaths = []\n",
        "    for maskJson in tqdm(data_df[\"json\"]): \n",
        "      w, h, labels, vertexlist = get_poly(maskJson)\n",
        "      # create image\n",
        "      img = Image.new(\"RGB\", (w,h))\n",
        "      img1 = ImageDraw.Draw(img)\n",
        "      for index,vertexset in  enumerate (vertexlist):\n",
        "        # draw polygon with label color\n",
        "        #  if vertex set is valid tuple\n",
        "        if not len(vertexset) < 2:\n",
        "          img1.polygon(vertexset, fill = label_clr[labels[index]])\n",
        "      img=np.array(img)\n",
        "      im = Image.fromarray(img[:,:,0])\n",
        "      #filling of the values happens at the channel 1, so we are considering only the first channel here\n",
        "      # plt.imshow(img[:,:,0])\n",
        "      dir_to_store = 'data/output/'  + maskJson[10:13]\n",
        "      if  not  os.path.isdir(dir_to_store):\n",
        "        os.makedirs(dir_to_store)\n",
        "      maskPath = 'data/output/' + maskJson[10:-5] + '.png'\n",
        "\n",
        "      # maskPath = maskJson.replace(\"mask\",\"output\")\n",
        "      # maskPath = maskPath.replace(\".json\",\".png\")\n",
        "      \n",
        "      maskPaths.append(maskPath)\n",
        "      im.save(maskPath)\n",
        "      \n",
        "    data_df['mask'] = np.array(maskPaths)\n",
        "    return data_df"
      ],
      "execution_count": 39,
      "outputs": []
    },
    {
      "cell_type": "code",
      "metadata": {
        "id": "vR7q-goEr7Ye"
      },
      "source": [
        "data_df = compute_masks(data_df)"
      ],
      "execution_count": null,
      "outputs": []
    },
    {
      "cell_type": "code",
      "metadata": {
        "colab": {
          "base_uri": "https://localhost:8080/",
          "height": 204
        },
        "id": "-UI3_Ng8r_VY",
        "outputId": "895cec6b-ff3b-43a2-82d8-c9f9801f10b9"
      },
      "source": [
        "data_df.head()"
      ],
      "execution_count": 41,
      "outputs": [
        {
          "output_type": "execute_result",
          "data": {
            "text/html": [
              "<div>\n",
              "<style scoped>\n",
              "    .dataframe tbody tr th:only-of-type {\n",
              "        vertical-align: middle;\n",
              "    }\n",
              "\n",
              "    .dataframe tbody tr th {\n",
              "        vertical-align: top;\n",
              "    }\n",
              "\n",
              "    .dataframe thead th {\n",
              "        text-align: right;\n",
              "    }\n",
              "</style>\n",
              "<table border=\"1\" class=\"dataframe\">\n",
              "  <thead>\n",
              "    <tr style=\"text-align: right;\">\n",
              "      <th></th>\n",
              "      <th>image</th>\n",
              "      <th>json</th>\n",
              "      <th>mask</th>\n",
              "    </tr>\n",
              "  </thead>\n",
              "  <tbody>\n",
              "    <tr>\n",
              "      <th>0</th>\n",
              "      <td>data/images/201/frame0029_leftImg8bit.jpg</td>\n",
              "      <td>data/mask/201/frame0029_gtFine_polygons.json</td>\n",
              "      <td>data/output/201/frame0029_gtFine_polygons.png</td>\n",
              "    </tr>\n",
              "    <tr>\n",
              "      <th>1</th>\n",
              "      <td>data/images/201/frame0299_leftImg8bit.jpg</td>\n",
              "      <td>data/mask/201/frame0299_gtFine_polygons.json</td>\n",
              "      <td>data/output/201/frame0299_gtFine_polygons.png</td>\n",
              "    </tr>\n",
              "    <tr>\n",
              "      <th>2</th>\n",
              "      <td>data/images/201/frame0779_leftImg8bit.jpg</td>\n",
              "      <td>data/mask/201/frame0779_gtFine_polygons.json</td>\n",
              "      <td>data/output/201/frame0779_gtFine_polygons.png</td>\n",
              "    </tr>\n",
              "    <tr>\n",
              "      <th>3</th>\n",
              "      <td>data/images/201/frame1019_leftImg8bit.jpg</td>\n",
              "      <td>data/mask/201/frame1019_gtFine_polygons.json</td>\n",
              "      <td>data/output/201/frame1019_gtFine_polygons.png</td>\n",
              "    </tr>\n",
              "    <tr>\n",
              "      <th>4</th>\n",
              "      <td>data/images/201/frame1469_leftImg8bit.jpg</td>\n",
              "      <td>data/mask/201/frame1469_gtFine_polygons.json</td>\n",
              "      <td>data/output/201/frame1469_gtFine_polygons.png</td>\n",
              "    </tr>\n",
              "  </tbody>\n",
              "</table>\n",
              "</div>"
            ],
            "text/plain": [
              "                                       image  ...                                           mask\n",
              "0  data/images/201/frame0029_leftImg8bit.jpg  ...  data/output/201/frame0029_gtFine_polygons.png\n",
              "1  data/images/201/frame0299_leftImg8bit.jpg  ...  data/output/201/frame0299_gtFine_polygons.png\n",
              "2  data/images/201/frame0779_leftImg8bit.jpg  ...  data/output/201/frame0779_gtFine_polygons.png\n",
              "3  data/images/201/frame1019_leftImg8bit.jpg  ...  data/output/201/frame1019_gtFine_polygons.png\n",
              "4  data/images/201/frame1469_leftImg8bit.jpg  ...  data/output/201/frame1469_gtFine_polygons.png\n",
              "\n",
              "[5 rows x 3 columns]"
            ]
          },
          "metadata": {
            "tags": []
          },
          "execution_count": 41
        }
      ]
    },
    {
      "cell_type": "code",
      "metadata": {
        "colab": {
          "base_uri": "https://localhost:8080/",
          "height": 291
        },
        "id": "4t5TMOhNwWgN",
        "outputId": "eb9b1e56-3d99-48f1-eb3e-9b9013b26dfb"
      },
      "source": [
        "def grader_3():\n",
        "    url = \"https://i.imgur.com/4XSUlHk.png\"\n",
        "    url_response = urllib.request.urlopen(url)\n",
        "    img_array = np.array(bytearray(url_response.read()), dtype=np.uint8)\n",
        "    img = cv2.imdecode(img_array, -1)\n",
        "    my_img = cv2.imread('data/output/201/frame0029_gtFine_polygons.png')    \n",
        "    plt.imshow(my_img)\n",
        "    print((my_img[:,:,0]==img).all())\n",
        "    print(np.unique(img))\n",
        "    print(np.unique(my_img[:,:,0]))\n",
        "    data_df.to_csv('preprocessed_data.csv', index=False)\n",
        "grader_3()"
      ],
      "execution_count": 76,
      "outputs": [
        {
          "output_type": "stream",
          "text": [
            "False\n",
            "[  0  10  20  40  50  60  70  80  90 100 120 130 140 150 160]\n",
            "[  0  10  20  40  50  60  70  80  90 100 120 130 140 150 160]\n"
          ],
          "name": "stdout"
        },
        {
          "output_type": "display_data",
          "data": {
            "image/png": "[encoded data removed]",
            "text/plain": [
              "<Figure size 432x288 with 1 Axes>"
            ]
          },
          "metadata": {
            "tags": [],
            "needs_background": "light"
          }
        }
      ]
    },
    {
      "cell_type": "code",
      "metadata": {
        "id": "w9h-y8mwzCcx"
      },
      "source": [
        "\"\"\"\n",
        "    Function to Display Images from Dataset.\n",
        "    \n",
        "    parameters: images_path(string) - Paths of Images to be displayed\n",
        "                rows(int) - No. of Rows in Output\n",
        "                cols(int) - No. of Columns in Output\n",
        "    \"\"\""
      ],
      "execution_count": null,
      "outputs": []
    }
  ]
}