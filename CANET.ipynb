{
  "nbformat": 4,
  "nbformat_minor": 0,
  "metadata": {
    "colab": {
      "name": "CANET.ipynb",
      "provenance": [],
      "collapsed_sections": [],
      "authorship_tag": "ABX9TyMwjerWw+faMVTRnQ+1r6AR",
      "include_colab_link": true
    },
    "kernelspec": {
      "name": "python3",
      "display_name": "Python 3"
    },
    "language_info": {
      "name": "python"
    },
    "accelerator": "GPU"
  },
  "cells": [
    {
      "cell_type": "markdown",
      "metadata": {
        "id": "view-in-github",
        "colab_type": "text"
      },
      "source": [
        "<a href=\"https://colab.research.google.com/github/cr21/ImageSegmentation/blob/main/CANET.ipynb\" target=\"_parent\"><img src=\"https://colab.research.google.com/assets/colab-badge.svg\" alt=\"Open In Colab\"/></a>"
      ]
    },
    {
      "cell_type": "code",
      "metadata": {
        "colab": {
          "base_uri": "https://localhost:8080/"
        },
        "id": "74QnivW5w6cN",
        "outputId": "2c1199f3-d3a1-4a82-937b-058dee949b68"
      },
      "source": [
        "from google.colab import drive\n",
        "drive.mount('/content/drive/')"
      ],
      "execution_count": 2,
      "outputs": [
        {
          "output_type": "stream",
          "text": [
            "Mounted at /content/drive/\n"
          ],
          "name": "stdout"
        }
      ]
    },
    {
      "cell_type": "code",
      "metadata": {
        "id": "UCGNNwvOEyA0"
      },
      "source": [
        "# !pip install tensorflow==2.2.0\n",
        "# !pip install keras==2.3.1\n",
        "# !pip install -U --pre segmentation-models"
      ],
      "execution_count": null,
      "outputs": []
    },
    {
      "cell_type": "code",
      "metadata": {
        "id": "jp4j-xx_xQC9"
      },
      "source": [
        "# Math functions\n",
        "# https://en.wikipedia.org/wiki/Generative_adversarial_network\n",
        "import math\n",
        "# Image related function from python image library\n",
        "from PIL import Image, ImageDraw\n",
        "from PIL import ImagePath\n",
        "# pandas for data processing\n",
        "import pandas as pd\n",
        "# operating system api\n",
        "import os\n",
        "from os import path\n",
        "\n",
        "from os import listdir\n",
        "from os.path import isfile, join\n",
        "# to monitor progress of iteration\n",
        "from tqdm import tqdm\n",
        "# json data processing\n",
        "import json\n",
        "# opencv library version 2\n",
        "import cv2\n",
        "# numpy for numerical processing of tensor\n",
        "import numpy as np\n",
        "# plotting library\n",
        "import matplotlib.pyplot as plt\n",
        "# urllib to get data from url\n",
        "import urllib\n",
        "pd.options.display.max_colwidth =1000\n",
        "\n",
        "# tf.enable_eager_execution()\n",
        "\n",
        "# from hilbert import hilbertCurve\n",
        "import imgaug.augmenters as iaa\n",
        "import numpy as np\n",
        "os.environ['TF_FORCE_GPU_ALLOW_GROWTH'] = 'true'\n",
        "from tensorflow.keras.layers import Flatten\n",
        "# split train and test data\n",
        "from sklearn.model_selection import train_test_split\n",
        "import tensorflow as tf\n",
        "\n",
        "\n"
      ],
      "execution_count": 3,
      "outputs": []
    },
    {
      "cell_type": "markdown",
      "metadata": {
        "id": "wgcmIiOuvm5i"
      },
      "source": [
        "# https://arxiv.org/pdf/2002.12041v1.pdf"
      ]
    },
    {
      "cell_type": "code",
      "metadata": {
        "id": "H4ao7FZqxNMI"
      },
      "source": [
        "os.chdir('/content/drive/MyDrive/Dataset/TrafficData/')"
      ],
      "execution_count": 4,
      "outputs": []
    },
    {
      "cell_type": "code",
      "metadata": {
        "id": "g-8o41SWxOKB"
      },
      "source": [
        "# https://www.jeremyjordan.me/semantic-segmentation/#advanced_unet"
      ],
      "execution_count": null,
      "outputs": []
    },
    {
      "cell_type": "code",
      "metadata": {
        "colab": {
          "base_uri": "https://localhost:8080/"
        },
        "id": "WlnFKHfyjBk8",
        "outputId": "1eccd69d-75ba-4253-de7a-694354e4f9e1"
      },
      "source": [
        "ls"
      ],
      "execution_count": 5,
      "outputs": [
        {
          "output_type": "stream",
          "text": [
            "\u001b[0m\u001b[01;34mdata\u001b[0m/        \u001b[01;34mmodel_save_unet\u001b[0m/       preprocessed_data.gsheet  uniquelabels.txt\n",
            "data_df.csv  preprocessed_data.csv  \u001b[01;34msavedModel\u001b[0m/               uniqueLabels.txt\n"
          ],
          "name": "stdout"
        }
      ]
    },
    {
      "cell_type": "code",
      "metadata": {
        "colab": {
          "base_uri": "https://localhost:8080/",
          "height": 204
        },
        "id": "XaA28sH9jO-c",
        "outputId": "20646567-e19d-49d8-8014-5db08dde8ee2"
      },
      "source": [
        "#  get preprocessed Images\n",
        "preprocessed_data = pd.read_csv(\"preprocessed_data.csv\")\n",
        "preprocessed_data.head()"
      ],
      "execution_count": 6,
      "outputs": [
        {
          "output_type": "execute_result",
          "data": {
            "text/html": [
              "<div>\n",
              "<style scoped>\n",
              "    .dataframe tbody tr th:only-of-type {\n",
              "        vertical-align: middle;\n",
              "    }\n",
              "\n",
              "    .dataframe tbody tr th {\n",
              "        vertical-align: top;\n",
              "    }\n",
              "\n",
              "    .dataframe thead th {\n",
              "        text-align: right;\n",
              "    }\n",
              "</style>\n",
              "<table border=\"1\" class=\"dataframe\">\n",
              "  <thead>\n",
              "    <tr style=\"text-align: right;\">\n",
              "      <th></th>\n",
              "      <th>image</th>\n",
              "      <th>json</th>\n",
              "      <th>mask</th>\n",
              "    </tr>\n",
              "  </thead>\n",
              "  <tbody>\n",
              "    <tr>\n",
              "      <th>0</th>\n",
              "      <td>data/images/201/frame0029_leftImg8bit.jpg</td>\n",
              "      <td>data/mask/201/frame0029_gtFine_polygons.json</td>\n",
              "      <td>data/output/201/frame0029_gtFine_polygons.png</td>\n",
              "    </tr>\n",
              "    <tr>\n",
              "      <th>1</th>\n",
              "      <td>data/images/201/frame0299_leftImg8bit.jpg</td>\n",
              "      <td>data/mask/201/frame0299_gtFine_polygons.json</td>\n",
              "      <td>data/output/201/frame0299_gtFine_polygons.png</td>\n",
              "    </tr>\n",
              "    <tr>\n",
              "      <th>2</th>\n",
              "      <td>data/images/201/frame0779_leftImg8bit.jpg</td>\n",
              "      <td>data/mask/201/frame0779_gtFine_polygons.json</td>\n",
              "      <td>data/output/201/frame0779_gtFine_polygons.png</td>\n",
              "    </tr>\n",
              "    <tr>\n",
              "      <th>3</th>\n",
              "      <td>data/images/201/frame1019_leftImg8bit.jpg</td>\n",
              "      <td>data/mask/201/frame1019_gtFine_polygons.json</td>\n",
              "      <td>data/output/201/frame1019_gtFine_polygons.png</td>\n",
              "    </tr>\n",
              "    <tr>\n",
              "      <th>4</th>\n",
              "      <td>data/images/201/frame1469_leftImg8bit.jpg</td>\n",
              "      <td>data/mask/201/frame1469_gtFine_polygons.json</td>\n",
              "      <td>data/output/201/frame1469_gtFine_polygons.png</td>\n",
              "    </tr>\n",
              "  </tbody>\n",
              "</table>\n",
              "</div>"
            ],
            "text/plain": [
              "                                       image  ...                                           mask\n",
              "0  data/images/201/frame0029_leftImg8bit.jpg  ...  data/output/201/frame0029_gtFine_polygons.png\n",
              "1  data/images/201/frame0299_leftImg8bit.jpg  ...  data/output/201/frame0299_gtFine_polygons.png\n",
              "2  data/images/201/frame0779_leftImg8bit.jpg  ...  data/output/201/frame0779_gtFine_polygons.png\n",
              "3  data/images/201/frame1019_leftImg8bit.jpg  ...  data/output/201/frame1019_gtFine_polygons.png\n",
              "4  data/images/201/frame1469_leftImg8bit.jpg  ...  data/output/201/frame1469_gtFine_polygons.png\n",
              "\n",
              "[5 rows x 3 columns]"
            ]
          },
          "metadata": {
            "tags": []
          },
          "execution_count": 6
        }
      ]
    },
    {
      "cell_type": "code",
      "metadata": {
        "id": "ltwI2eg8jaaL"
      },
      "source": [
        "X_train, X_test = train_test_split(preprocessed_data, test_size=0.20, random_state=21)"
      ],
      "execution_count": 7,
      "outputs": []
    },
    {
      "cell_type": "code",
      "metadata": {
        "colab": {
          "base_uri": "https://localhost:8080/"
        },
        "id": "c5LwqrpHpUQy",
        "outputId": "936042d2-c808-4a9d-8bb0-8bbce43979ee"
      },
      "source": [
        "print(f\"X_train Data shape {X_train.shape}\")\n",
        "print(f\"X_test Data shape {X_test.shape}\")"
      ],
      "execution_count": 8,
      "outputs": [
        {
          "output_type": "stream",
          "text": [
            "X_train Data shape (3206, 3)\n",
            "X_test Data shape (802, 3)\n"
          ],
          "name": "stdout"
        }
      ]
    },
    {
      "cell_type": "code",
      "metadata": {
        "id": "UG9C5LNCsKZQ"
      },
      "source": [
        "label_clr = {'road':10, 'parking':20, 'drivable fallback':20,'sidewalk':30,'non-drivable fallback':40,'rail track':40,\\\n",
        "                        'person':50, 'animal':50, 'rider':60, 'motorcycle':70, 'bicycle':70, 'autorickshaw':80,\\\n",
        "                        'car':80, 'truck':90, 'bus':90, 'vehicle fallback':90, 'trailer':90, 'caravan':90,\\\n",
        "                        'curb':100, 'wall':100, 'fence':110,'guard rail':110, 'billboard':120,'traffic sign':120,\\\n",
        "                        'traffic light':120, 'pole':130, 'polegroup':130, 'obs-str-bar-fallback':130,'building':140,\\\n",
        "                        'bridge':140,'tunnel':140, 'vegetation':150, 'sky':160, 'fallback background':160,'unlabeled':0,\\\n",
        "                        'out of roi':0, 'ego vehicle':170, 'ground':180,'rectification border':190,\\\n",
        "                   'train':200}\n",
        "classes = list(set([filler for filler in label_clr.values()]))"
      ],
      "execution_count": 9,
      "outputs": []
    },
    {
      "cell_type": "code",
      "metadata": {
        "id": "b1MrE6O4uFfO"
      },
      "source": [
        "def normalize_image(mask):\n",
        "    mask = mask/255\n",
        "    return mask"
      ],
      "execution_count": 10,
      "outputs": []
    },
    {
      "cell_type": "code",
      "metadata": {
        "id": "ddeaC5w-pVUR"
      },
      "source": [
        "class Dataset:\n",
        "\n",
        "    \"\"\"\n",
        "      Dataset class This class is useful for data preprocessing and getting items for Data Loader\n",
        "    \"\"\"\n",
        "    \n",
        "\n",
        "    def __init__(self, data_frame, width, height, classes):\n",
        "        \"\"\"\n",
        "          Initialize the instance variable of class.\n",
        "\n",
        "          Parameters : \n",
        "                data_frame  pandas.DataFrame -> columns : [\"Image\",\"Json\",\"mask\"]\n",
        "                width   width of input image\n",
        "                height  height of input image\n",
        "                classes : number of output channels we have in our problem and corosponding filler value \n",
        "              \n",
        "        \"\"\"\n",
        "        \n",
        "        self.width  = width\n",
        "        self.height = height\n",
        "        self.imagePath = list(data_frame[\"image\"])\n",
        "        self.maskPath = list(data_frame[\"mask\"])\n",
        "        self.classValues = sorted(classes)\n",
        "    \n",
        "    def __getitem__(self, index):\n",
        "      \"\"\"\n",
        "      Function to get image and output mask at perticular index\n",
        "      we can also use any augmentation technique here\n",
        "\n",
        "      Parameters:\n",
        "        index (int) : index to fetch the data\n",
        "\n",
        "      return (image, mask) tuple\n",
        "\n",
        "      \"\"\"\n",
        "      # get and read image at index in image path\n",
        "      image = cv2.imread(self.imagePath[index],cv2.IMREAD_UNCHANGED)\n",
        "      # resize the image to match with input dimension\n",
        "      image = cv2.resize(image, (self.width, self.height), interpolation = cv2.INTER_NEAREST)\n",
        "\n",
        "      # get and read mask at index in mask path\n",
        "      mask = cv2.imread(self.maskPath[index], cv2.IMREAD_UNCHANGED)\n",
        "      # resize the mask to match with dimension\n",
        "      mask  = cv2.resize(mask, (self.width, self.height), interpolation  = cv2.INTER_NEAREST)\n",
        "      #  we have21 different objects so output channel will be 21\n",
        "      # https://www.jeremyjordan.me/semantic-segmentation/#advanced_unet\n",
        "      image_mask_with_outputchannel = [(mask == j) for j in self.classValues]\n",
        "      image_mask_with_outputchannel = np.stack(image_mask_with_outputchannel, axis = -1).astype('float')\n",
        "      \n",
        "      # Augmentation examples code might not be perfect but you could do something similar\n",
        "      #     a = np.random.uniform()\n",
        "      #     if a<0.2:\n",
        "      #         image = image\n",
        "      #         image_mask = image_mask\n",
        "      #     elif a<0.4:\n",
        "      #         image = aug3.augment_image(image)\n",
        "      #         image_mask = aug3.augment_image(image_mask)\n",
        "      #     elif a<0.6:\n",
        "      #         image = aug4.augment_image(image)\n",
        "      #         image_mask = aug4.augment_image(image_mask)\n",
        "      #     elif a<0.8:\n",
        "      #         image = aug5.augment_image(image)\n",
        "      #         image_mask = image_mask\n",
        "      #     else:\n",
        "      #         image = aug6.augment_image(image)\n",
        "      #         image_mask = aug6.augment_image(image_mask)\n",
        "              \n",
        "      return image, image_mask_with_outputchannel\n",
        "        \n",
        "    def __len__(self):\n",
        "        return len(self.imagePath)"
      ],
      "execution_count": 11,
      "outputs": []
    },
    {
      "cell_type": "code",
      "metadata": {
        "id": "iMZKKJpQ27Re"
      },
      "source": [
        "class DataLoader(tf.keras.utils.Sequence):\n",
        "  \"\"\"\n",
        "    Data Loader class to generate Batch from Dataset. This class implements tf.keras.utils.sequence instances\n",
        "\n",
        "  \"\"\"\n",
        "\n",
        "  def __init__(self, dataset, batch_size = 1, shuffle = False):\n",
        "    \"\"\"\n",
        "      initialize the parameters for the class.\n",
        "\n",
        "      parameters :\n",
        "        \n",
        "        dataset : Entire Dataset\n",
        "        batch_size = size of the batch we want to return\n",
        "        shuffle : if True shuffle the data at the end of each epoch\n",
        "\n",
        "\n",
        "    \"\"\"\n",
        "\n",
        "    self.dataset = dataset\n",
        "    self.batch_size = batch_size\n",
        "    self.shuffle = shuffle\n",
        "    self.indices = np.arange(len(dataset))\n",
        "\n",
        "  def __getitem__(self, idx):\n",
        "    \"\"\"\n",
        "    \n",
        "      Function to get the batch at index idx.\n",
        "      This will get next avaialbel batch_size set of records\n",
        "    \n",
        "    \"\"\"\n",
        "    \n",
        "    # generate the batch data\n",
        "    # get the next start and End index\n",
        "    startIndex = idx * self.batch_size\n",
        "    endIndex = (idx +1)  * self.batch_size\n",
        "    \n",
        "    collection  = []\n",
        "    #  get the  next batch from start to end index\n",
        "    for j in range(startIndex, endIndex):\n",
        "      collection.append(self.dataset[j])\n",
        "    \n",
        "      #  create a batch by appending ( original Image :( 1920 * 1080 * 3 ), Mask : (1920,1080,21))\n",
        "      #   [\n",
        "      #         ( (1920,1080,3), (1920,1080,21) )\n",
        "      #         ( (1920,1080,3), (1920,1080,21) )\n",
        "      #         ( (1920,1080,3), (1920,1080,21) )\n",
        "      #         ( (1920,1080,3), (1920,1080,21) )\n",
        "      # ]\n",
        "      \n",
        "      \n",
        "    batch = [np.stack(samples, axis=0) for samples in zip(*collection)]\n",
        "      \n",
        "    return tuple(batch)\n",
        "\n",
        "  def __len__(self):\n",
        "    \"\"\"\n",
        "      Get the number of Batch : total number of batch in entire dataset\n",
        "\n",
        "    \"\"\"\n",
        "\n",
        "    return len(self.indices) // self.batch_size\n",
        "\n",
        "  def on_epoch_end(self):\n",
        "    \"\"\"\n",
        "      Operation to perform at the end of each epoch\n",
        "\n",
        "      We will shuffle the indices at the end of each epoch\n",
        "\n",
        "    \"\"\"\n",
        "    if self.shuffle:\n",
        "        self.indices = np.random.permutation(self.indices)\n"
      ],
      "execution_count": 12,
      "outputs": []
    },
    {
      "cell_type": "markdown",
      "metadata": {
        "id": "ryNIxmVMYy2Y"
      },
      "source": [
        "# visualize  Images and Mask"
      ]
    },
    {
      "cell_type": "code",
      "metadata": {
        "id": "dAOQLkE1O7HY"
      },
      "source": [
        "train_dataset = Dataset(X_train, 256, 256, classes)\n",
        "test_dataset = Dataset(X_test, 256, 256, classes)\n",
        "\n",
        "train_dataloader = DataLoader(train_dataset, batch_size = 4, shuffle = True)\n",
        "test_dataloader = DataLoader(test_dataset,  batch_size = 4, shuffle = True)"
      ],
      "execution_count": 13,
      "outputs": []
    },
    {
      "cell_type": "code",
      "metadata": {
        "id": "P2M9ZfwIY2pe"
      },
      "source": [
        "randomImage, randomMask = train_dataset[50]\n"
      ],
      "execution_count": 14,
      "outputs": []
    },
    {
      "cell_type": "code",
      "metadata": {
        "id": "kHfeFTameHj4"
      },
      "source": [
        "imagesTitle = [\"OriginalImage\",\"Mask[0:3]\",\"Mask[3:6]\",\"Mask[6:9]\",\"Mask[9:12]\",\"Mask[12:15]\",\"Mask[15:18]\",\"Mask[18:21]\"]\n",
        "images = []\n",
        "images.append(randomImage)\n",
        "# add channel 0: 3  from mask channel\n",
        "images.append(randomMask[...,0:3].squeeze())\n",
        "# add channel 3: 6  from mask channel\n",
        "images.append(randomMask[...,3:6].squeeze())\n",
        "# add channel 6: 9  from mask channel\n",
        "images.append(randomMask[...,6:9].squeeze())\n",
        "# add channel 9: 12  from mask channel\n",
        "images.append(randomMask[...,9:12].squeeze())\n",
        "# add channel 12 15 from mask channel\n",
        "images.append(randomMask[...,12:15].squeeze())\n",
        "# add channel 15 : 18 from mask channel\n",
        "images.append(randomMask[...,15:18].squeeze())\n",
        "# add channel 18: 21 from mask channel\n",
        "images.append(randomMask[...,18:21].squeeze())"
      ],
      "execution_count": 15,
      "outputs": []
    },
    {
      "cell_type": "code",
      "metadata": {
        "colab": {
          "base_uri": "https://localhost:8080/",
          "height": 1000
        },
        "id": "k3WlWaVLjLzH",
        "outputId": "5ab3642a-f623-46e8-a318-0bb94f9e7406"
      },
      "source": [
        "import matplotlib.pyplot as plt\n",
        "import matplotlib.image as mpimg\n",
        "\n",
        "def process(filename: str=None, title : str=None) -> None:\n",
        "    \"\"\"\n",
        "    View multiple images stored in files, stacking vertically\n",
        "\n",
        "    Arguments:\n",
        "        filename: str - path to filename containing image\n",
        "    \"\"\"\n",
        "    \n",
        "    plt.figure()\n",
        "    plt.title(title)\n",
        "    plt.imshow(filename)\n",
        "\n",
        "for idx,file in enumerate(images):\n",
        "    process(file, imagesTitle[idx])"
      ],
      "execution_count": 16,
      "outputs": [
        {
          "output_type": "display_data",
          "data": {
            "image/png": "[encoded data removed]",
            "text/plain": [
              "<Figure size 432x288 with 1 Axes>"
            ]
          },
          "metadata": {
            "tags": [],
            "needs_background": "light"
          }
        },
        {
          "output_type": "display_data",
          "data": {
            "image/png": "[encoded data removed]",
            "text/plain": [
              "<Figure size 432x288 with 1 Axes>"
            ]
          },
          "metadata": {
            "tags": [],
            "needs_background": "light"
          }
        },
        {
          "output_type": "display_data",
          "data": {
            "image/png": "[encoded data removed]",
            "text/plain": [
              "<Figure size 432x288 with 1 Axes>"
            ]
          },
          "metadata": {
            "tags": [],
            "needs_background": "light"
          }
        },
        {
          "output_type": "display_data",
          "data": {
            "image/png": "[encoded data removed]",
            "text/plain": [
              "<Figure size 432x288 with 1 Axes>"
            ]
          },
          "metadata": {
            "tags": [],
            "needs_background": "light"
          }
        },
        {
          "output_type": "display_data",
          "data": {
            "image/png": "[encoded data removed]",
            "text/plain": [
              "<Figure size 432x288 with 1 Axes>"
            ]
          },
          "metadata": {
            "tags": [],
            "needs_background": "light"
          }
        },
        {
          "output_type": "display_data",
          "data": {
            "image/png": "[encoded data removed]",
            "text/plain": [
              "<Figure size 432x288 with 1 Axes>"
            ]
          },
          "metadata": {
            "tags": [],
            "needs_background": "light"
          }
        },
        {
          "output_type": "display_data",
          "data": {
            "image/png": "[encoded data removed]",
            "text/plain": [
              "<Figure size 432x288 with 1 Axes>"
            ]
          },
          "metadata": {
            "tags": [],
            "needs_background": "light"
          }
        },
        {
          "output_type": "display_data",
          "data": {
            "image/png": "[encoded data removed]",
            "text/plain": [
              "<Figure size 432x288 with 1 Axes>"
            ]
          },
          "metadata": {
            "tags": [],
            "needs_background": "light"
          }
        }
      ]
    },
    {
      "cell_type": "markdown",
      "metadata": {
        "id": "PGIEB6ZdEPKg"
      },
      "source": [
        ""
      ]
    },
    {
      "cell_type": "code",
      "metadata": {
        "colab": {
          "base_uri": "https://localhost:8080/"
        },
        "id": "dbg0oyDIEUEL",
        "outputId": "bac3283c-3e06-4451-c409-568140193c68"
      },
      "source": [
        "import tensorflow as tf\n",
        "# tf.compat.v1.enable_eager_execution()\n",
        "from tensorflow import keras\n",
        "from tensorflow.keras.layers import *\n",
        "from tensorflow.keras.preprocessing import image\n",
        "from tensorflow.keras.models import Model, load_model\n",
        "from tensorflow.keras.layers import UpSampling2D\n",
        "from tensorflow.keras.layers import MaxPooling2D, GlobalAveragePooling2D\n",
        "from tensorflow.keras.layers import concatenate\n",
        "from tensorflow.keras.layers import Multiply\n",
        "from tensorflow.keras.callbacks import EarlyStopping, ModelCheckpoint\n",
        "from tensorflow.keras import backend as K\n",
        "from tensorflow.keras.layers import Input, Add, Dense, Activation, ZeroPadding2D, BatchNormalization, Flatten, Conv2D, AveragePooling2D, MaxPooling2D, GlobalMaxPooling2D\n",
        "from tensorflow.keras.models import Model, load_model\n",
        "from tensorflow.keras.utils import plot_model\n",
        "from tensorflow.keras.initializers import glorot_uniform\n",
        "K.set_image_data_format('channels_last')\n",
        "K.set_learning_phase(1)"
      ],
      "execution_count": 3,
      "outputs": [
        {
          "output_type": "stream",
          "text": [
            "/usr/local/lib/python3.7/dist-packages/tensorflow/python/keras/backend.py:434: UserWarning: `tf.keras.backend.set_learning_phase` is deprecated and will be removed after 2020-10-11. To update it, simply pass a True/False value to the `training` argument of the `__call__` method of your layer or model.\n",
            "  warnings.warn('`tf.keras.backend.set_learning_phase` is deprecated and '\n"
          ],
          "name": "stderr"
        }
      ]
    },
    {
      "cell_type": "markdown",
      "metadata": {
        "id": "ud_nQcgaFFtZ"
      },
      "source": [
        "* as a part of this project we will be implementing the architecture based on this paper https://arxiv.org/pdf/2002.12041v1.pdf\n",
        "* We will be using the custom layers concept that we used in seq-seq assignment\n",
        "* You can devide the whole architecture can be devided into two parts\n",
        "    1. Encoder\n",
        "    2. Decoder\n",
        "    <img src='https://i.imgur.com/XHwBlEp.png' width=\"600\">\n",
        "* Encoder:\n",
        "    * The first step of the encoder is to create the channel maps  [C_1, C_2, C_3, C_4]\n",
        "    * C_1 width and heigths are 4x times less than the original image\n",
        "    * C_2 width and heigths are 8x times less than the original image\n",
        "    * C_3 width and heigths are 8x times less than the original image\n",
        "    * C_4 width and heigths are 8x times less than the original image\n",
        "    * <i>you can reduce the dimensions by using stride parameter</i>.\n",
        "    * [C_1, C_2, C_3, C_4] are formed by applying a \"conv block\" followed by k number of \"identity block\". i.e the C_k feature map will single \"conv block\" followed by k number of \"identity blocks\".\n",
        "    <table>\n",
        "    <tr><td><img src=\"https://i.imgur.com/Eu0BM9e.png\" width=\"300\"></td>\n",
        "        <td><img src=\"https://i.imgur.com/zZkg7zj.png\" width=\"250\"></td></tr>\n",
        "    </table>\n",
        "    * <strong>The conv block and identity block of C_1</strong>: the number filters in the covolutional layers will be [4,4,8] and the number of filters in the parallel conv layer will also be 8.\n",
        "    * <strong>The conv block and identity block of C_2</strong>: the number filters in the covolutional layers will be [8,8,16] and the number of filters in the parallel conv layer will also be 16.\n",
        "    * <strong>The conv block and identity block of C_3</strong>: the number filters in the covolutional layers will be [16,16,32] and the number of filters in the parallel conv layer will also be 32.\n",
        "    * <strong>The conv block and identity block of C_4</strong>: the number filters in the covolutional layers will be [32,32,64] and the number of filters in the parallel conv layer will also be 64.\n",
        "    * Here + represents the elementwise sum\n",
        "    <br>\n",
        "    \n",
        " \n",
        "    \n",
        "    * Example: if  image is of size (512, 512, 3)\n",
        "        * the output after C_1 will be 128 * 128 * 8\n",
        "        * the output after C_2 will be 64 * 64 * 16\n",
        "        * the output after C_3 will be 64 * 64 * 32\n",
        "        * the output after C_4 will be 64 * 64 * 64\n"
      ]
    },
    {
      "cell_type": "code",
      "metadata": {
        "id": "c6msqaDOGi4n"
      },
      "source": [
        "class convolutional_block(tf.keras.layers.Layer):\n",
        "    \"\"\"\n",
        "      This Block represents the Convolution Block of Encoder Architecture.\n",
        "      \n",
        "      Parameters :\n",
        "        kernel : kernel size \n",
        "        filters : list : each list element represents the Filter size in each of the convolution layer in block.\n",
        "        strides : stride value\n",
        "        name : name of the current Block\n",
        "\n",
        "      returns :\n",
        "        modified Input after series of convolution operation\n",
        "      \n",
        "    \"\"\"\n",
        "\n",
        "\n",
        "    def __init__(self, kernel=3,  filters=[4,4,8], stride=1, name=\"conv block\"):\n",
        "        super().__init__(name=name)\n",
        "        self.F1, self.F2, self.F3 = filters\n",
        "        self.kernel = kernel\n",
        "        self.stride = stride\n",
        "        # write the architecutre that was mentioned above\n",
        "        \n",
        "\n",
        "        # Convolution Block\n",
        "        self.conv1 = Conv2D(self.F1, (1,1), (self.stride, self.stride), name=\"Conv1\")\n",
        "        self.conv2 = Conv2D(self.F2, 3 , padding=\"same\", name=\"Conv2\")\n",
        "        self.conv3 = Conv2D(self.F3, 1, name=\"Conv3\")\n",
        "        self.parallelConv = Conv2D(self.F3, 3, (self.stride,self.stride),padding=\"same\", name=\"ParallelConv\")\n",
        "\n",
        "        # Batch Norms\n",
        "        self.bn1 = BatchNormalization( name = \"BN1\" )\n",
        "        self.bn2 = BatchNormalization( name = \"BN2\" )\n",
        "        self.bn3 = BatchNormalization(name = \"BN3\" )\n",
        "        self.parallelBN = BatchNormalization(name = \"parallelBN\" )\n",
        "\n",
        "        # Activation function\n",
        "        self.activation = Activation('relu')\n",
        "        self.add = Add()\n",
        "\n",
        "    def call(self, X):\n",
        "\n",
        "        inputVal = X\n",
        "        # print(\"InputShape\",X.shape)\n",
        "        # process layers\n",
        "        X = self.conv1(X)\n",
        "        X = self.bn1(X)\n",
        "        X = self.activation(X)\n",
        "        # print(\"X.shape\",X.shape)\n",
        "\n",
        "        X = self.conv2(X)\n",
        "        X = self.bn2(X)\n",
        "        X = self.activation(X)\n",
        "        # print(\"InputShape2\",X.shape)\n",
        "        X = self.conv3(X)\n",
        "        X = self.bn3(X) \n",
        "        # print(\"InputShape\",X.shape)\n",
        "        # get parallel conv block\n",
        "        parallelX = self.parallelConv(inputVal)\n",
        "        parallelX = self.parallelBN(parallelX)\n",
        "        parallelX = self.activation(parallelX)\n",
        "\n",
        "        # print(\"X\",X.shape)\n",
        "        # print(\"para\", parallelX.shape)\n",
        "        #  element wise addition of parallel conv block and normal 3 layer conv block\n",
        "        X  = self.add((X, parallelX))\n",
        "\n",
        "        X =  self.activation(X)\n",
        "\n",
        "        return X"
      ],
      "execution_count": 4,
      "outputs": []
    },
    {
      "cell_type": "code",
      "metadata": {
        "id": "27_SC9ttHKQb"
      },
      "source": [
        "class identity_block(tf.keras.layers.Layer):\n",
        "    \"\"\"\n",
        "      Identity Block of Encoder which follows convolution Block.\n",
        "\n",
        "      Parameters :\n",
        "        kernel : kernel size \n",
        "        filters : list : each list element represents the Filter size in each of the convolution layer in block.\n",
        "        strides : stride value\n",
        "        name : name of the current Block\n",
        "\n",
        "      returns :\n",
        "        modified Input after series of convolution operation\n",
        "      \n",
        "    \"\"\"\n",
        "\n",
        "    def __init__(self, kernel=3,  filters=[4,4,8], name=\"identity block\"):\n",
        "        super().__init__(name=name)\n",
        "        self.F1, self.F2, self.F3 = filters\n",
        "        self.kernel = kernel\n",
        "        # self.stride = stride\n",
        "\n",
        "        # write the architecutre that was mentioned above\n",
        "        \n",
        "        # Convolution Block\n",
        "        self.conv1 = Conv2D(self.F1, (1,1), (1, 1), name=\"IdentityConv1\")\n",
        "        self.conv2 = Conv2D(self.F2, 3 , padding=\"same\", name=\"IdentityConv2\")\n",
        "        self.conv3 = Conv2D(self.F3, 1, name=\"IdentityConv3\")\n",
        "        \n",
        "        # Batch Norms\n",
        "        self.bn1 = BatchNormalization( name = \"IdentityBN1\" )\n",
        "        self.bn2 = BatchNormalization( name = \"IdentityBN2\" )\n",
        "        self.bn3 = BatchNormalization(name = \"IdentityBN3\" )\n",
        "        \n",
        "\n",
        "        # Activation function\n",
        "        self.activation = Activation('relu')\n",
        "        \n",
        "        self.add = Add()\n",
        "\n",
        "    def call(self, X):\n",
        "        # write the architecutre that was mentioned above\n",
        "\n",
        "        inputVal = X\n",
        "        # print(\"InputShape\",X.shape)\n",
        "        # process layers\n",
        "        X = self.conv1(X)\n",
        "        X = self.bn1(X)\n",
        "        X = self.activation(X)\n",
        "        # print(\"X.shape\",X.shape)\n",
        "\n",
        "        X = self.conv2(X)\n",
        "        X = self.bn2(X)\n",
        "        X = self.activation(X)\n",
        "        # print(\"InputShape2\",X.shape)\n",
        "        X = self.conv3(X)\n",
        "        X = self.bn3(X) \n",
        "        # print(\"InputShape\",X.shape)\n",
        "\n",
        "\n",
        "        X = self.add((X,inputVal))\n",
        "\n",
        "        X = self.activation(X) \n",
        "\n",
        "\n",
        "        return X"
      ],
      "execution_count": 5,
      "outputs": []
    },
    {
      "cell_type": "markdown",
      "metadata": {
        "id": "QL8mjuHB2yFv"
      },
      "source": [
        "* The output of the $C_4$ will be passed to $\\text{Chained Context Aggregation Module (CAM)}$\n",
        "<img src='https://i.imgur.com/zYJWFJV.png' width=\"400\">\n",
        "* The CAM module will have two operations names Context flow and Global flow\n",
        "* <strong>The Global flow</strong>: \n",
        "    * as shown in the above figure first we willl apply  <a href=\"https://www.tensorflow.org/api_docs/python/tf/keras/layers/GlobalAveragePooling2D\">global avg pooling</a> which results in (#, 1, 1, number_of_filters) then applying <a href=\"https://www.tensorflow.org/api_docs/python/tf/keras/layers/BatchNormalization?version=nightly\">BN</a>, <a href=\"https://www.tensorflow.org/api_docs/python/tf/keras/layers/ReLU\">RELU</a>, $1*1 \\text{ Conv}$ layer sequentially which results a matrix (#, 1, 1, number_of_filters). Finally apply <a href=\"https://www.tensorflow.org/api_docs/python/tf/keras/layers/UpSampling2D\">upsampling</a> / <a href=\"https://www.tensorflow.org/api_docs/python/tf/keras/layers/Conv2DTranspose\">conv2d transpose</a> to make the output same as the input dimensions (#, input_height, input_width, number_of_filters)\n",
        "    * If you use <a href=\"https://www.tensorflow.org/api_docs/python/tf/keras/layers/UpSampling2D\">upsampling</a> then use bilinear pooling as interpolation technique\n",
        "* <strong>The Context flow</strong>: \n",
        "    * as shown in the above figure (c) the context flow will get inputs from two modules `a. C4` `b. From the above flow` \n",
        "    * We will be <a href=\"https://www.tensorflow.org/api_docs/python/tf/keras/layers/Concatenate\">concatinating</a> the both inputs on the last axis.\n",
        "    * After the concatination we will be applying <a href=\"https://www.tensorflow.org/api_docs/python/tf/keras/layers/AveragePooling2D\"> Average pooling </a> which reduces the size of feature map by $N\\times$ times\n",
        "    * In the paper it was mentioned that to apply a group convolutions, but for the assignment we will be applying the simple conv layers with kernel size $(3*3)$\n",
        "    * We are skipping the channel shuffling \n",
        "    * similarly we will be applying a simple conv layers with kernel size $(3*3)$ consider this output is X\n",
        "    * later we will get the Y=(X $\\otimes \\sigma((1\\times1)conv(relu((1\\times1)conv(X))))) \\oplus X$, here $\\oplus$ is elementwise addition and $\\otimes$ is elementwise multiplication\n",
        "    * Finally apply <a href=\"https://www.tensorflow.org/api_docs/python/tf/keras/layers/UpSampling2D\">upsampling</a> / <a href=\"https://www.tensorflow.org/api_docs/python/tf/keras/layers/Conv2DTranspose\">conv2d transpose</a> to make the output same as the input dimensions (#, input_height, input_width, number_of_filters)\n",
        "    * If you use <a href=\"https://www.tensorflow.org/api_docs/python/tf/keras/layers/UpSampling2D\">upsampling</a> then use bilinear pooling as interpolation technique\n",
        "\n",
        "NOTE: here N times reduction and N time increments makes the input and out shape same, you can explore with the N values, you can choose N = 2 or 4\n",
        "\n",
        "* Example with N=2:\n",
        "    * Assume the C4 is of shape (64,64,64) then the shape of GF will be (64,64,32)\n",
        "    * Assume the C4 is of shape (64,64,64) and the shape of GF is (64,64,32) then the shape of CF1 will be (64,64,32)\n",
        "    * Assume the C4 is of shape (64,64,64) and the shape of CF1 is (64,64,32) then the shape of CF2 will be (64,64,32)\n",
        "    * Assume the C4 is of shape (64,64,64) and the shape of CF2 is (64,64,32) then the shape of CF3 will be (64,64,32)"
      ]
    },
    {
      "cell_type": "code",
      "metadata": {
        "id": "OOYNT-mdA7DN"
      },
      "source": [
        "class global_flow(tf.keras.layers.Layer):\n",
        "\n",
        "    \"\"\"\n",
        "      Function to get global context information from Input\n",
        "\n",
        "        Operation performed in this function\n",
        "            1) global avg pooling which results in (#, 1, 1, number_of_filters) \n",
        "            2) BN, RELU,  \n",
        "            3) 1∗1 Conv  layer sequentially which results a matrix (#, 1, 1, number_of_filters). \n",
        "            4) upsampling / conv2d transpose to make the output same as the input dimensions (#, input_height, input_width, number_of_filters)\n",
        "\n",
        "        Parameters : \n",
        "\n",
        "            width : width of input\n",
        "            Height : height of input\n",
        "            filters : filters size\n",
        "            name : name of block or layer\n",
        "\n",
        "        returns:\n",
        "          Context flow which represent the global structure of encoded features\n",
        "    \"\"\"\n",
        "\n",
        "    def __init__(self,  width, height,filters,name=\"global_flow\"):\n",
        "\n",
        "        super().__init__(name=name)\n",
        "        \n",
        "        self.width = width\n",
        "        self.height = height\n",
        "        self.filters = filters\n",
        "        self.globalPooling = GlobalAveragePooling2D()\n",
        "        self.b1 = BatchNormalization()\n",
        "        self.activation = Activation('relu')\n",
        "        self.conv = Conv2D(filters, kernel_size=(1,1), strides =(1,1))\n",
        "        \n",
        "        self.transposeConv = Conv2DTranspose(self.filters/2, kernel_size= (self.width, self.height))\n",
        "        \n",
        "    def call(self, X):\n",
        "        # implement the global flow operatiom\n",
        "        print(\"Input in Global Flow :\", X.shape)\n",
        "\n",
        "        # apply globalAveragepooling to input\n",
        "\n",
        "        globalAvg = self.globalPooling(X)\n",
        "       \n",
        "        # reshape to (1,1,64)\n",
        "        globalAvg = Reshape((1,1,self.filters))(globalAvg)\n",
        "        bn = self.b1(globalAvg)\n",
        "        activation = self.activation(bn)\n",
        "        conv_1_1 = self.conv(activation)\n",
        "        upsampling = self.transposeConv(conv_1_1)\n",
        "        # print(\"width : \", self.width)\n",
        "        # print(\"filters : \", self.filters)\n",
        "        # print(\"filters : \", self.filters)\n",
        "        return upsampling"
      ],
      "execution_count": 21,
      "outputs": []
    },
    {
      "cell_type": "code",
      "metadata": {
        "id": "g9N24XqoOr2j"
      },
      "source": [
        "class context_flow(tf.keras.layers.Layer):    \n",
        "\n",
        "    \"\"\"\n",
        "        Block for Context Flow, This flow will aggregate the information directly comes from Encoder and upper level flow\n",
        "        This allows to work with different scale feature maps. \n",
        "\n",
        "\n",
        "        Parameters : \n",
        "\n",
        "            width : width of input\n",
        "            Height : height of input\n",
        "            filters : filters size\n",
        "            name : name of block or layer\n",
        "\n",
        "        returns:\n",
        "          Context flow which aggregates the spatial feature from above flow and global encoded features\n",
        "          to generate higher contexual features which represents spatial context information at \n",
        "          different scale.\n",
        "\n",
        "    \"\"\"\n",
        "    def __init__(self, width, height, filters, name=\"context_flow\"):\n",
        "        super().__init__(name=name)\n",
        "        self.width = width\n",
        "        self.height = height\n",
        "        self.filters =  filters\n",
        "        # concate the input on last axis channel concatenation\n",
        "        self.concatInput = Concatenate(axis=-1)\n",
        "        self.globalAvgPool = AveragePooling2D()\n",
        "        self.conv1 = Conv2D(self.filters, kernel_size=(3,3),padding='same')\n",
        "        self.conv2 = Conv2D(self.filters, kernel_size=(3,3),padding='same')\n",
        "\n",
        "        self.cf_2_conv_1_1_1 = Conv2D(self.filters,kernel_size=(1,1) )\n",
        "        self.activation = Activation('relu')\n",
        "        self.cf_2_conv_1_1_2 = Conv2D(self.filters, kernel_size=(1,1))\n",
        "        self.sigmoidActivation = Activation('sigmoid')\n",
        "        self.mult = Multiply()\n",
        "        self.add = Add()\n",
        "\n",
        "        self.transposeConv = Conv2DTranspose(32, kernel_size=2,strides=(2, 2))\n",
        "\n",
        "    def call(self, X):\n",
        "        # here X will a list of two elements \n",
        "        INP, FLOW = X[0], X[1] \n",
        "        # implement the context flow as mentioned in the above cell\n",
        "        print(\"InputShape\", INP.shape)\n",
        "        print(\"Flow shape\", FLOW.shape)\n",
        "\n",
        "        X = self.concatInput([INP, FLOW])\n",
        "        X = self.globalAvgPool(X)\n",
        "        # print(\"Global Avg (2,2) pool size\", X.shape)\n",
        "        X = self.conv1(X)\n",
        "        X = self.conv2(X)\n",
        "        # print(\"First part of Context Flow Model output shape\", X.shape)\n",
        "        cf_1 = X\n",
        "\n",
        "        _X = self.cf_2_conv_1_1_1(X)\n",
        "        # print(\"context flow 2 (1,1) conv output\", _X.shape)\n",
        "        _X = self.activation(_X)\n",
        "        # print(\"context RELU flow 2 activation output\", _X.shape)\n",
        "        _X = self.cf_2_conv_1_1_2(X)\n",
        "        # print(\"context flow 2 (1,1) conv output\", _X.shape)\n",
        "        _X = self.sigmoidActivation(_X)\n",
        "        # print(\"context SIGMOID flow 2 activation output\", _X.shape)\n",
        "\n",
        "        _X_mult = self.mult((cf_1, _X))\n",
        "        # print(\"context _X_mult   output\", _X_mult.shape)\n",
        "        _X_add = self.add((cf_1,_X_mult))\n",
        "        # print(\"context _X_add   output\", _X_add.shape)\n",
        "        _X = self.transposeConv(_X_add)\n",
        "\n",
        "        \n",
        "        return _X"
      ],
      "execution_count": 47,
      "outputs": []
    },
    {
      "cell_type": "code",
      "metadata": {
        "id": "6xuGpi_1yk_y"
      },
      "source": [
        ""
      ],
      "execution_count": null,
      "outputs": []
    },
    {
      "cell_type": "code",
      "metadata": {
        "colab": {
          "base_uri": "https://localhost:8080/"
        },
        "id": "0RPzWeCfGe1E",
        "outputId": "a6070600-39ca-4aa0-ea53-6d1a27d62b55"
      },
      "source": [
        "X_input = Input(shape=(512,512,3))\n",
        "\n",
        "# Stage 1\n",
        "X = Conv2D(64, (3, 3), name='conv0',  padding=\"same\", kernel_initializer=glorot_uniform(seed=0))(X_input)\n",
        "\n",
        "X = BatchNormalization(axis=3, name='bn_conv1')(X)\n",
        "X = Activation('relu')(X)\n",
        "X = MaxPooling2D((2, 2), strides=(2, 2))(X)\n",
        "print(X.shape)\n",
        "print(\"++\"*50)\n",
        "# C1 Block \n",
        "C1 = convolutional_block(kernel=3, filters= [4,4,8], stride=2,name=\"C1\")(X)\n",
        "# I1 identity layer\n",
        "I1 = identity_block(kernel=3, filters=[4,4,8],name = 'I1')(C1)\n",
        "print(\"C1 Shape\", C1.shape)\n",
        "print(\"I1 Shape\", I1.shape)\n",
        "print(\"++\"*50)\n",
        "\n",
        "# C2 Block \n",
        "C2 = convolutional_block(kernel=3, filters= [8,8,16], stride=2,name=\"C2\")(I1)\n",
        "# I2 identity layer\n",
        "I2 = identity_block(kernel=3, filters=[8,8,16],name = 'I2')(C2)\n",
        "\n",
        "print(\"C2 Shape\", C2.shape)\n",
        "print(\"I2 Shape\", I2.shape)\n",
        "print(\"++\"*50)\n",
        "\n",
        "# C3 Block \n",
        "C3 = convolutional_block(kernel=3, filters= [16,16,32], stride=1,name=\"C3\")(I2)\n",
        "# I3 identity layer\n",
        "I3 = identity_block(kernel=3, filters=[16,16,32],name = 'I3')(C3)\n",
        "\n",
        "print(\"C3 Shape\", C3.shape)\n",
        "print(\"I3 Shape\", I3.shape)\n",
        "print(\"++\"*50)\n",
        "\n",
        "# C4 Block \n",
        "C4 = convolutional_block(kernel=3, filters= [32,32,64], stride=1,name=\"C4\")(I3)\n",
        "# I4 identity layer\n",
        "I4 = identity_block(kernel=3, filters=[32,32,64],name = 'I4')(C4)\n",
        "\n",
        "print(\"C4 Shape\", C4.shape)\n",
        "print(\"I4 Shape\", I4.shape)\n",
        "print(\"++\"*50)\n",
        "# Global Flow\n",
        "G = global_flow(I4.shape[1], I4.shape[2],I4.shape[3],'global_flow')(I4)\n",
        "print(\"Output of Global flow\",G.shape)\n",
        "print(\"++\"*50)\n",
        "cf1 = context_flow(G.shape[1],G.shape[2], G.shape[3] )([C4, G])\n",
        "print(\"Context Flow 1 shape\",cf1.shape)\n",
        "print(\"++\"*50)\n",
        "\n",
        "cf2 = context_flow(G.shape[1],G.shape[2], G.shape[3] )([C4, cf1])\n",
        "print(\"Context Flow 2 shape\",cf2.shape)\n",
        "print(\"++\"*50)\n",
        "\n",
        "cf3 = context_flow(G.shape[1],G.shape[2], G.shape[3] )([C4, cf2])\n",
        "print(\"Context Flow 3 shape\",cf3.shape)\n",
        "print(\"++\"*50)\n",
        "\n",
        "FsmInput = Add()([G,cf1,cf2,cf3])\n",
        "print(\"Feature Selection Module Input shape\",FsmInput.shape)\n",
        "print(\"++\"*50)"
      ],
      "execution_count": 55,
      "outputs": [
        {
          "output_type": "stream",
          "text": [
            "(None, 256, 256, 64)\n",
            "++++++++++++++++++++++++++++++++++++++++++++++++++++++++++++++++++++++++++++++++++++++++++++++++++++\n",
            "C1 Shape (None, 128, 128, 8)\n",
            "I1 Shape (None, 128, 128, 8)\n",
            "++++++++++++++++++++++++++++++++++++++++++++++++++++++++++++++++++++++++++++++++++++++++++++++++++++\n",
            "C2 Shape (None, 64, 64, 16)\n",
            "I2 Shape (None, 64, 64, 16)\n",
            "++++++++++++++++++++++++++++++++++++++++++++++++++++++++++++++++++++++++++++++++++++++++++++++++++++\n",
            "C3 Shape (None, 64, 64, 32)\n",
            "I3 Shape (None, 64, 64, 32)\n",
            "++++++++++++++++++++++++++++++++++++++++++++++++++++++++++++++++++++++++++++++++++++++++++++++++++++\n",
            "C4 Shape (None, 64, 64, 64)\n",
            "I4 Shape (None, 64, 64, 64)\n",
            "++++++++++++++++++++++++++++++++++++++++++++++++++++++++++++++++++++++++++++++++++++++++++++++++++++\n",
            "Input in Global Flow : (None, 64, 64, 64)\n",
            "width :  64\n",
            "filters :  64\n",
            "filters :  64\n",
            "Output of Global flow (None, 64, 64, 32)\n",
            "++++++++++++++++++++++++++++++++++++++++++++++++++++++++++++++++++++++++++++++++++++++++++++++++++++\n",
            "InputShape (None, 64, 64, 64)\n",
            "Flow shape (None, 64, 64, 32)\n",
            "Context Flow 1 shape (None, 64, 64, 32)\n",
            "++++++++++++++++++++++++++++++++++++++++++++++++++++++++++++++++++++++++++++++++++++++++++++++++++++\n",
            "InputShape (None, 64, 64, 64)\n",
            "Flow shape (None, 64, 64, 32)\n",
            "Context Flow 2 shape (None, 64, 64, 32)\n",
            "++++++++++++++++++++++++++++++++++++++++++++++++++++++++++++++++++++++++++++++++++++++++++++++++++++\n",
            "InputShape (None, 64, 64, 64)\n",
            "Flow shape (None, 64, 64, 32)\n",
            "Context Flow 3 shape (None, 64, 64, 32)\n",
            "++++++++++++++++++++++++++++++++++++++++++++++++++++++++++++++++++++++++++++++++++++++++++++++++++++\n",
            "Feature Selection Module Input shape (None, 64, 64, 32)\n",
            "++++++++++++++++++++++++++++++++++++++++++++++++++++++++++++++++++++++++++++++++++++++++++++++++++++\n"
          ],
          "name": "stdout"
        }
      ]
    },
    {
      "cell_type": "code",
      "metadata": {
        "id": "_QwNn_wtaSiL"
      },
      "source": [
        ""
      ],
      "execution_count": null,
      "outputs": []
    },
    {
      "cell_type": "code",
      "metadata": {
        "id": "PK5yTeOKaQED"
      },
      "source": [
        ""
      ],
      "execution_count": null,
      "outputs": []
    },
    {
      "cell_type": "code",
      "metadata": {
        "colab": {
          "base_uri": "https://localhost:8080/",
          "height": 231
        },
        "id": "Aoa0o2C3GYTK",
        "outputId": "f8748401-67fe-4d52-a72d-74a78f9b02c4"
      },
      "source": [
        "# write the complete architecutre\n",
        "\n",
        "model = Model(inputs = X, outputs = output)\n",
        "\n",
        "model.summary()"
      ],
      "execution_count": null,
      "outputs": [
        {
          "output_type": "error",
          "ename": "NameError",
          "evalue": "ignored",
          "traceback": [
            "\u001b[0;31m---------------------------------------------------------------------------\u001b[0m",
            "\u001b[0;31mNameError\u001b[0m                                 Traceback (most recent call last)",
            "\u001b[0;32m<ipython-input-22-f0980dad7c3b>\u001b[0m in \u001b[0;36m<module>\u001b[0;34m()\u001b[0m\n\u001b[1;32m      1\u001b[0m \u001b[0;31m# write the complete architecutre\u001b[0m\u001b[0;34m\u001b[0m\u001b[0;34m\u001b[0m\u001b[0;34m\u001b[0m\u001b[0m\n\u001b[1;32m      2\u001b[0m \u001b[0;34m\u001b[0m\u001b[0m\n\u001b[0;32m----> 3\u001b[0;31m \u001b[0mmodel\u001b[0m \u001b[0;34m=\u001b[0m \u001b[0mModel\u001b[0m\u001b[0;34m(\u001b[0m\u001b[0minputs\u001b[0m \u001b[0;34m=\u001b[0m \u001b[0mX\u001b[0m\u001b[0;34m,\u001b[0m \u001b[0moutputs\u001b[0m \u001b[0;34m=\u001b[0m \u001b[0moutput\u001b[0m\u001b[0;34m)\u001b[0m\u001b[0;34m\u001b[0m\u001b[0;34m\u001b[0m\u001b[0m\n\u001b[0m\u001b[1;32m      4\u001b[0m \u001b[0;34m\u001b[0m\u001b[0m\n\u001b[1;32m      5\u001b[0m \u001b[0mmodel\u001b[0m\u001b[0;34m.\u001b[0m\u001b[0msummary\u001b[0m\u001b[0;34m(\u001b[0m\u001b[0;34m)\u001b[0m\u001b[0;34m\u001b[0m\u001b[0;34m\u001b[0m\u001b[0m\n",
            "\u001b[0;31mNameError\u001b[0m: name 'output' is not defined"
          ]
        }
      ]
    },
    {
      "cell_type": "code",
      "metadata": {
        "id": "GzFvm-2MRp_a"
      },
      "source": [
        ""
      ],
      "execution_count": null,
      "outputs": []
    },
    {
      "cell_type": "code",
      "metadata": {
        "id": "mTcbJ0NQFmkM"
      },
      "source": [
        ""
      ],
      "execution_count": null,
      "outputs": []
    },
    {
      "cell_type": "code",
      "metadata": {
        "id": "Ok4kl4FwFhna"
      },
      "source": [
        ""
      ],
      "execution_count": null,
      "outputs": []
    },
    {
      "cell_type": "code",
      "metadata": {
        "id": "V-p4joR2FHBj"
      },
      "source": [
        ""
      ],
      "execution_count": null,
      "outputs": []
    }
  ]
}